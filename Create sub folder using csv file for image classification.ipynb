{
 "cells": [
  {
   "cell_type": "code",
   "execution_count": 1,
   "id": "b8caa778-78dc-442b-baa7-64561210c534",
   "metadata": {},
   "outputs": [],
   "source": [
    "import os\n",
    "import pandas as pd\n",
    "import os\n",
    "import shutil"
   ]
  },
  {
   "cell_type": "markdown",
   "id": "5986d795-f4c3-4520-8d7e-2b6ba9bdaa6d",
   "metadata": {},
   "source": [
    "## The csv file with class label"
   ]
  },
  {
   "cell_type": "code",
   "execution_count": 2,
   "id": "a00fe40b-713e-4f3a-b0c5-372386b1b21b",
   "metadata": {},
   "outputs": [
    {
     "data": {
      "text/html": [
       "<div>\n",
       "<style scoped>\n",
       "    .dataframe tbody tr th:only-of-type {\n",
       "        vertical-align: middle;\n",
       "    }\n",
       "\n",
       "    .dataframe tbody tr th {\n",
       "        vertical-align: top;\n",
       "    }\n",
       "\n",
       "    .dataframe thead th {\n",
       "        text-align: right;\n",
       "    }\n",
       "</style>\n",
       "<table border=\"1\" class=\"dataframe\">\n",
       "  <thead>\n",
       "    <tr style=\"text-align: right;\">\n",
       "      <th></th>\n",
       "      <th>id_code</th>\n",
       "      <th>diagnosis</th>\n",
       "    </tr>\n",
       "  </thead>\n",
       "  <tbody>\n",
       "    <tr>\n",
       "      <th>0</th>\n",
       "      <td>000c1434d8d7</td>\n",
       "      <td>2</td>\n",
       "    </tr>\n",
       "    <tr>\n",
       "      <th>1</th>\n",
       "      <td>001639a390f0</td>\n",
       "      <td>4</td>\n",
       "    </tr>\n",
       "  </tbody>\n",
       "</table>\n",
       "</div>"
      ],
      "text/plain": [
       "        id_code  diagnosis\n",
       "0  000c1434d8d7          2\n",
       "1  001639a390f0          4"
      ]
     },
     "execution_count": 2,
     "metadata": {},
     "output_type": "execute_result"
    }
   ],
   "source": [
    "df = pd.read_csv('train.csv')\n",
    "df.head(2)"
   ]
  },
  {
   "cell_type": "code",
   "execution_count": 8,
   "id": "a1593ebc-e448-4a25-8d3d-1c82245efb85",
   "metadata": {},
   "outputs": [
    {
     "data": {
      "text/plain": [
       "diagnosis\n",
       "0    1805\n",
       "2     999\n",
       "1     370\n",
       "4     295\n",
       "3     193\n",
       "Name: count, dtype: int64"
      ]
     },
     "execution_count": 8,
     "metadata": {},
     "output_type": "execute_result"
    }
   ],
   "source": [
    "df.diagnosis.value_counts()"
   ]
  },
  {
   "cell_type": "markdown",
   "id": "0220e335-53ac-465c-9ba4-584f26f65b4b",
   "metadata": {},
   "source": [
    "## List of image in each class"
   ]
  },
  {
   "cell_type": "code",
   "execution_count": 3,
   "id": "ae4e1dc2-a112-453a-8f0c-3de6ce574ed7",
   "metadata": {},
   "outputs": [],
   "source": [
    "def list_of_images(class_label):\n",
    "    img_list = df[df['diagnosis']==class_label]['id_code'].values\n",
    "    final_imgs = [img + '.png' for img in img_list]\n",
    "\n",
    "    return final_imgs"
   ]
  },
  {
   "cell_type": "code",
   "execution_count": 4,
   "id": "d6664f8f-a85d-4015-9d63-fbc062ed3213",
   "metadata": {},
   "outputs": [],
   "source": [
    "def move_images(image_folder, destination_folder, image_list):\n",
    "    for image_name in image_list:\n",
    "        source_path = os.path.join(image_folder, image_name)\n",
    "        destination_path = os.path.join(destination_folder, image_name)\n",
    "    \n",
    "        if os.path.exists(source_path):\n",
    "            shutil.move(source_path, destination_path)\n",
    "            # print(f\"Moved {image_name} to {destination_folder}\")\n",
    "        else:\n",
    "            print(f\"Image {image_name} not found in {image_folder}\")"
   ]
  },
  {
   "cell_type": "markdown",
   "id": "36f7587e-9c96-4d69-ba9c-aff45506c52a",
   "metadata": {},
   "source": [
    "## No - DR images"
   ]
  },
  {
   "cell_type": "code",
   "execution_count": 5,
   "id": "6f4d09e2-c68a-4bb7-b456-4c2f1c24c248",
   "metadata": {},
   "outputs": [],
   "source": [
    "imgs_0 = list_of_images(0)"
   ]
  },
  {
   "cell_type": "code",
   "execution_count": 6,
   "id": "d344b15e-485a-497f-a3f3-368448c37e88",
   "metadata": {},
   "outputs": [],
   "source": [
    "move_images('train', 'No-DR', imgs_0)"
   ]
  },
  {
   "cell_type": "markdown",
   "id": "58ac64cb-b6c1-4dc3-95f1-477ef5119162",
   "metadata": {},
   "source": [
    "## Mild Images"
   ]
  },
  {
   "cell_type": "code",
   "execution_count": 9,
   "id": "9fc95705-4eee-455d-be2a-0336a17896fa",
   "metadata": {},
   "outputs": [],
   "source": [
    "imgs_1 = list_of_images(1)\n",
    "move_images('train', 'Mild', imgs_1)"
   ]
  },
  {
   "cell_type": "markdown",
   "id": "d6dcbd49-5e1c-446f-9559-701f8ef6dac2",
   "metadata": {},
   "source": [
    "## Moderate images"
   ]
  },
  {
   "cell_type": "code",
   "execution_count": 10,
   "id": "84478aff-7f1a-4d83-8060-5b0364c63fbb",
   "metadata": {},
   "outputs": [],
   "source": [
    "imgs_2 = list_of_images(2)\n",
    "move_images('train', 'Moderate', imgs_2)"
   ]
  },
  {
   "cell_type": "markdown",
   "id": "be82514c-d94f-4323-a959-9b84896cac04",
   "metadata": {},
   "source": [
    "## Severe images"
   ]
  },
  {
   "cell_type": "code",
   "execution_count": 11,
   "id": "4ef34008-291c-4ef3-94b7-49844eb8c987",
   "metadata": {},
   "outputs": [],
   "source": [
    "imgs_3 = list_of_images(3)\n",
    "move_images('train', 'Severe', imgs_3)"
   ]
  },
  {
   "cell_type": "markdown",
   "id": "5b575d15-8ce8-4439-a9ff-6c645930d020",
   "metadata": {},
   "source": [
    "## Proliferative-DR"
   ]
  },
  {
   "cell_type": "code",
   "execution_count": 13,
   "id": "2e9fc829-aa56-4870-b13d-9c0930cf2d09",
   "metadata": {},
   "outputs": [],
   "source": [
    "imgs_4 = list_of_images(4)\n",
    "move_images('train', 'Proliferative-DR', imgs_4)"
   ]
  },
  {
   "cell_type": "code",
   "execution_count": null,
   "id": "f0421d77-ff74-4419-bbc0-80dd7522f82f",
   "metadata": {},
   "outputs": [],
   "source": []
  }
 ],
 "metadata": {
  "kernelspec": {
   "display_name": "Python 3 (ipykernel)",
   "language": "python",
   "name": "python3"
  },
  "language_info": {
   "codemirror_mode": {
    "name": "ipython",
    "version": 3
   },
   "file_extension": ".py",
   "mimetype": "text/x-python",
   "name": "python",
   "nbconvert_exporter": "python",
   "pygments_lexer": "ipython3",
   "version": "3.9.10"
  }
 },
 "nbformat": 4,
 "nbformat_minor": 5
}
