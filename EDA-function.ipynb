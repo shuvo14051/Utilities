{
 "cells": [
  {
   "cell_type": "code",
   "execution_count": 1,
   "id": "88238ec4",
   "metadata": {},
   "outputs": [],
   "source": [
    "import pandas as pd\n",
    "import numpy as np\n",
    "import seaborn as sns\n",
    "import matplotlib.pyplot as plt\n",
    "sns.set_theme(style='darkgrid')"
   ]
  },
  {
   "cell_type": "markdown",
   "id": "3d56338a",
   "metadata": {},
   "source": [
    "## Function for count plot "
   ]
  },
  {
   "cell_type": "code",
   "execution_count": 2,
   "id": "6569b18f",
   "metadata": {},
   "outputs": [],
   "source": [
    "def count_plot(x,data):\n",
    "    sns.catplot(x=x, data = data, kind='count', aspect=1.3)\n",
    "    plt.title(\"Count plot of \"+x)\n",
    "    plt.show()"
   ]
  },
  {
   "cell_type": "markdown",
   "id": "c20cab46",
   "metadata": {},
   "source": [
    "## Function for histogram and box plot"
   ]
  },
  {
   "cell_type": "code",
   "execution_count": 3,
   "id": "2ff8810d",
   "metadata": {},
   "outputs": [],
   "source": [
    "def hist_box_plot(x, data, bins=30):\n",
    "    fig, axs = plt.subplots(1, 2, figsize=(10, 4))\n",
    "    sns.histplot(x = x, data=data, ax=axs[0], bins=bins, color='red')\n",
    "    sns.boxplot(x = x, data=data, ax=axs[1], color='#c8a2c8')\n",
    "    fig.suptitle('Histogram and boxplot of '+ x, fontsize=16)\n",
    "    plt.show()"
   ]
  },
  {
   "cell_type": "markdown",
   "id": "4814490f",
   "metadata": {},
   "source": [
    "## Function for line plot"
   ]
  },
  {
   "cell_type": "code",
   "execution_count": 4,
   "id": "ec7955de",
   "metadata": {},
   "outputs": [],
   "source": [
    "def line_plot(x,y,data):\n",
    "    sns.lineplot(x=x, y=y, \n",
    "             data=data, color='#963634',)\n",
    "    plt.xticks(rotation = 45)\n",
    "    plt.xlabel(x)\n",
    "    plt.ylabel(y)\n",
    "    plt.show()\n"
   ]
  },
  {
   "cell_type": "markdown",
   "id": "d1bbaa11",
   "metadata": {},
   "source": [
    "## Remove feature witu 80% null values"
   ]
  },
  {
   "cell_type": "code",
   "execution_count": 5,
   "id": "e8834926",
   "metadata": {},
   "outputs": [],
   "source": [
    "def null_80(df):\n",
    "    missing_percentages = df.isnull().mean()\n",
    "    columns_to_drop = missing_percentages[missing_percentages >= .7].index\n",
    "    df = df.drop(columns=columns_to_drop)\n",
    "    return df"
   ]
  },
  {
   "cell_type": "markdown",
   "id": "7358958d",
   "metadata": {},
   "source": [
    "## Fill the missing values"
   ]
  },
  {
   "cell_type": "code",
   "execution_count": 6,
   "id": "06f2d59a",
   "metadata": {},
   "outputs": [],
   "source": [
    "def fill_numeric_missing_values(df,columns):\n",
    "    for column in columns:\n",
    "        column_mean = df[column].median()\n",
    "        df[column].fillna(column_mean, inplace=True)\n",
    "    return df"
   ]
  },
  {
   "cell_type": "code",
   "execution_count": 7,
   "id": "da3e7cab",
   "metadata": {},
   "outputs": [],
   "source": [
    "def fill_cat_missing_values(df,columns):\n",
    "    for column in columns:\n",
    "        df[column].fillna(df[column].mode()[0], inplace=True)\n",
    "    return df\n"
   ]
  },
  {
   "cell_type": "markdown",
   "id": "05edfece",
   "metadata": {},
   "source": [
    "## Remove outliers from a column "
   ]
  },

  {
   "cell_type": "code",
   "execution_count": 9,
   "id": "48b3076e",
   "metadata": {},
   "outputs": [],
   "source": [
    "def remove_outliers_iqr(df, columns, threshold=1.5):\n",
    "    # Calculate the lower and upper bounds for each column\n",
    "    lower_bounds = df.quantile(0.25) - threshold * (df.quantile(0.75) - df.quantile(0.25))\n",
    "    upper_bounds = df.quantile(0.75) + threshold * (df.quantile(0.75) - df.quantile(0.25))\n",
    "    \n",
    "    # Remove outliers for each column\n",
    "    for column in columns:\n",
    "        lower_bound = lower_bounds[column]\n",
    "        upper_bound = upper_bounds[column]\n",
    "        df = df[(df[column] >= lower_bound) & (df[column] <= upper_bound)]\n",
    "    \n",
    "    return df"
   ]
  },
  {
   "cell_type": "markdown",
   "id": "941a23e5",
   "metadata": {},
   "source": [
    "## Correlation heatmap"
   ]
  },
  {
   "cell_type": "code",
   "execution_count": 10,
   "id": "c1d18af7",
   "metadata": {},
   "outputs": [],
   "source": [
    "def corr_heatmap(df,columns):\n",
    "    corr_df = df[columns].corr().abs()\n",
    "    mask = np.triu(np.ones_like(corr_df, dtype=bool))\n",
    "    tri_df = corr_df.mask(mask)\n",
    "    to_drop = [c for c in tri_df.columns if any(tri_df[c] >=  .8)]\n",
    "    reduced_df = df.drop(to_drop, axis=1)\n",
    "    sns.heatmap(tri_df, annot=True, fmt='.2g')\n",
    "    plt.show()\n",
    "    return reduced_df"
   ]
  },
  {
   "cell_type": "code",
   "execution_count": null,
   "id": "ace87701",
   "metadata": {},
   "outputs": [],
   "source": []
  }
 ],
 "metadata": {
  "kernelspec": {
   "display_name": "Python 3 (ipykernel)",
   "language": "python",
   "name": "python3"
  },
  "language_info": {
   "codemirror_mode": {
    "name": "ipython",
    "version": 3
   },
   "file_extension": ".py",
   "mimetype": "text/x-python",
   "name": "python",
   "nbconvert_exporter": "python",
   "pygments_lexer": "ipython3",
   "version": "3.9.6"
  }
 },
 "nbformat": 4,
 "nbformat_minor": 5
}
