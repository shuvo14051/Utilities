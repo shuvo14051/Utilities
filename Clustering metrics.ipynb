{
 "cells": [
  {
   "cell_type": "code",
   "execution_count": 12,
   "id": "17389ed3",
   "metadata": {},
   "outputs": [],
   "source": [
    "from sklearn.metrics import silhouette_samples, silhouette_score\n",
    "from sklearn.datasets import make_blobs\n",
    "from sklearn.cluster import KMeans\n",
    "import matplotlib.pyplot as plt\n",
    "from sklearn import metrics\n",
    "import matplotlib.cm as cm\n",
    "import seaborn as sns\n",
    "import pandas as pd\n",
    "import numpy as np\n",
    "import os"
   ]
  },
  {
   "cell_type": "code",
   "execution_count": 13,
   "id": "388c9e3d",
   "metadata": {},
   "outputs": [],
   "source": [
    "X, y = make_blobs(n_samples=500, n_features=10, \n",
    "                  centers=5, cluster_std=1, center_box=(-10.0, 10.0),\n",
    "                  shuffle=True, random_state=1)"
   ]
  },
  {
   "cell_type": "code",
   "execution_count": 18,
   "id": "a7eed49a",
   "metadata": {},
   "outputs": [],
   "source": [
    "kmeans_model = KMeans(n_clusters=3, random_state=1).fit(X)\n",
    "labels = kmeans_model.labels_"
   ]
  },
  {
   "cell_type": "code",
   "execution_count": 14,
   "id": "4ddbb517",
   "metadata": {},
   "outputs": [
    {
     "data": {
      "text/plain": [
       "548.8931274211329"
      ]
     },
     "execution_count": 14,
     "metadata": {},
     "output_type": "execute_result"
    }
   ],
   "source": [
    "\"\"\"The Calinski-Harabasz Index (CH Index) ranges from 0 to infinity.\n",
    "\n",
    "For example, if the data set is naturally clustered into well-separated groups, \n",
    "then a CH Index of 50 or higher would be considered very good. However, if the data \n",
    "set is not naturally clustered, then a CH Index of 10 or higher might be considered good.\"\"\"\n",
    "\n",
    "metrics.calinski_harabasz_score(X, labels)"
   ]
  },
  {
   "cell_type": "code",
   "execution_count": 15,
   "id": "83865b1b",
   "metadata": {},
   "outputs": [
    {
     "data": {
      "text/plain": [
       "0.5818161484883766"
      ]
     },
     "execution_count": 15,
     "metadata": {},
     "output_type": "execute_result"
    }
   ],
   "source": [
    "# Zero is the lowest possible score. Values closer to zero indicate a better partition.\n",
    "metrics.davies_bouldin_score(X, labels)"
   ]
  },
  {
   "cell_type": "code",
   "execution_count": 17,
   "id": "ada9b4cf",
   "metadata": {},
   "outputs": [
    {
     "data": {
      "text/plain": [
       "0.6139536571759887"
      ]
     },
     "execution_count": 17,
     "metadata": {},
     "output_type": "execute_result"
    }
   ],
   "source": [
    "# The score is bounded between -1 for incorrect clustering and +1 for highly dense clustering. \\\n",
    "# Scores around zero indicate overlapping clusters.\n",
    "metrics.silhouette_score(X, labels)"
   ]
  },
  {
   "cell_type": "code",
   "execution_count": null,
   "id": "6b516d6a",
   "metadata": {},
   "outputs": [],
   "source": []
  }
 ],
 "metadata": {
  "kernelspec": {
   "display_name": "Python 3 (ipykernel)",
   "language": "python",
   "name": "python3"
  },
  "language_info": {
   "codemirror_mode": {
    "name": "ipython",
    "version": 3
   },
   "file_extension": ".py",
   "mimetype": "text/x-python",
   "name": "python",
   "nbconvert_exporter": "python",
   "pygments_lexer": "ipython3",
   "version": "3.9.6"
  }
 },
 "nbformat": 4,
 "nbformat_minor": 5
}
